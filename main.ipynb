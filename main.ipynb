{
 "cells": [
  {
   "cell_type": "code",
   "execution_count": 5,
   "metadata": {},
   "outputs": [
    {
     "name": "stderr",
     "output_type": "stream",
     "text": [
      "/opt/homebrew/anaconda3/lib/python3.12/pty.py:95: DeprecationWarning: This process (pid=35503) is multi-threaded, use of forkpty() may lead to deadlocks in the child.\n",
      "  pid, fd = os.forkpty()\n"
     ]
    },
    {
     "name": "stdout",
     "output_type": "stream",
     "text": [
      "Requirement already satisfied: crewai in /opt/homebrew/anaconda3/lib/python3.12/site-packages (0.114.0)\n",
      "Requirement already satisfied: crewai_tools in /opt/homebrew/anaconda3/lib/python3.12/site-packages (0.40.1)\n",
      "Collecting dotenv\n",
      "  Using cached dotenv-0.9.9-py2.py3-none-any.whl.metadata (279 bytes)\n",
      "Requirement already satisfied: appdirs>=1.4.4 in /opt/homebrew/anaconda3/lib/python3.12/site-packages (from crewai) (1.4.4)\n",
      "Requirement already satisfied: auth0-python>=4.7.1 in /opt/homebrew/anaconda3/lib/python3.12/site-packages (from crewai) (4.9.0)\n",
      "Requirement already satisfied: blinker>=1.9.0 in /opt/homebrew/anaconda3/lib/python3.12/site-packages (from crewai) (1.9.0)\n",
      "Requirement already satisfied: chromadb>=0.5.23 in /opt/homebrew/anaconda3/lib/python3.12/site-packages (from crewai) (0.5.23)\n",
      "Requirement already satisfied: click>=8.1.7 in /opt/homebrew/anaconda3/lib/python3.12/site-packages (from crewai) (8.1.8)\n",
      "Requirement already satisfied: instructor>=1.3.3 in /opt/homebrew/anaconda3/lib/python3.12/site-packages (from crewai) (1.7.9)\n",
      "Requirement already satisfied: json-repair>=0.25.2 in /opt/homebrew/anaconda3/lib/python3.12/site-packages (from crewai) (0.41.1)\n",
      "Requirement already satisfied: json5>=0.10.0 in /opt/homebrew/anaconda3/lib/python3.12/site-packages (from crewai) (0.12.0)\n",
      "Requirement already satisfied: jsonref>=1.1.0 in /opt/homebrew/anaconda3/lib/python3.12/site-packages (from crewai) (1.1.0)\n",
      "Requirement already satisfied: litellm==1.60.2 in /opt/homebrew/anaconda3/lib/python3.12/site-packages (from crewai) (1.60.2)\n",
      "Requirement already satisfied: openai>=1.13.3 in /opt/homebrew/anaconda3/lib/python3.12/site-packages (from crewai) (1.74.0)\n",
      "Requirement already satisfied: openpyxl>=3.1.5 in /opt/homebrew/anaconda3/lib/python3.12/site-packages (from crewai) (3.1.5)\n",
      "Requirement already satisfied: opentelemetry-api>=1.30.0 in /opt/homebrew/anaconda3/lib/python3.12/site-packages (from crewai) (1.32.1)\n",
      "Requirement already satisfied: opentelemetry-exporter-otlp-proto-http>=1.30.0 in /opt/homebrew/anaconda3/lib/python3.12/site-packages (from crewai) (1.32.1)\n",
      "Requirement already satisfied: opentelemetry-sdk>=1.30.0 in /opt/homebrew/anaconda3/lib/python3.12/site-packages (from crewai) (1.32.1)\n",
      "Requirement already satisfied: pdfplumber>=0.11.4 in /opt/homebrew/anaconda3/lib/python3.12/site-packages (from crewai) (0.11.6)\n",
      "Requirement already satisfied: pydantic>=2.4.2 in /opt/homebrew/anaconda3/lib/python3.12/site-packages (from crewai) (2.11.3)\n",
      "Requirement already satisfied: python-dotenv>=1.0.0 in /opt/homebrew/anaconda3/lib/python3.12/site-packages (from crewai) (1.1.0)\n",
      "Requirement already satisfied: pyvis>=0.3.2 in /opt/homebrew/anaconda3/lib/python3.12/site-packages (from crewai) (0.3.2)\n",
      "Requirement already satisfied: regex>=2024.9.11 in /opt/homebrew/anaconda3/lib/python3.12/site-packages (from crewai) (2024.11.6)\n",
      "Requirement already satisfied: tomli-w>=1.1.0 in /opt/homebrew/anaconda3/lib/python3.12/site-packages (from crewai) (1.2.0)\n",
      "Requirement already satisfied: tomli>=2.0.2 in /opt/homebrew/anaconda3/lib/python3.12/site-packages (from crewai) (2.2.1)\n",
      "Requirement already satisfied: uv>=0.4.25 in /opt/homebrew/anaconda3/lib/python3.12/site-packages (from crewai) (0.6.14)\n",
      "Requirement already satisfied: aiohttp in /opt/homebrew/anaconda3/lib/python3.12/site-packages (from litellm==1.60.2->crewai) (3.11.16)\n",
      "Requirement already satisfied: httpx<0.28.0,>=0.23.0 in /opt/homebrew/anaconda3/lib/python3.12/site-packages (from litellm==1.60.2->crewai) (0.27.2)\n",
      "Requirement already satisfied: importlib-metadata>=6.8.0 in /opt/homebrew/anaconda3/lib/python3.12/site-packages (from litellm==1.60.2->crewai) (7.0.1)\n",
      "Requirement already satisfied: jinja2<4.0.0,>=3.1.2 in /opt/homebrew/anaconda3/lib/python3.12/site-packages (from litellm==1.60.2->crewai) (3.1.4)\n",
      "Requirement already satisfied: jsonschema<5.0.0,>=4.22.0 in /opt/homebrew/anaconda3/lib/python3.12/site-packages (from litellm==1.60.2->crewai) (4.23.0)\n",
      "Requirement already satisfied: tiktoken>=0.7.0 in /opt/homebrew/anaconda3/lib/python3.12/site-packages (from litellm==1.60.2->crewai) (0.9.0)\n",
      "Requirement already satisfied: tokenizers in /opt/homebrew/anaconda3/lib/python3.12/site-packages (from litellm==1.60.2->crewai) (0.20.3)\n",
      "Requirement already satisfied: docker>=7.1.0 in /opt/homebrew/anaconda3/lib/python3.12/site-packages (from crewai_tools) (7.1.0)\n",
      "Requirement already satisfied: embedchain>=0.1.114 in /opt/homebrew/anaconda3/lib/python3.12/site-packages (from crewai_tools) (0.1.128)\n",
      "Requirement already satisfied: lancedb>=0.5.4 in /opt/homebrew/anaconda3/lib/python3.12/site-packages (from crewai_tools) (0.21.2)\n",
      "Requirement already satisfied: pyright>=1.1.350 in /opt/homebrew/anaconda3/lib/python3.12/site-packages (from crewai_tools) (1.1.399)\n",
      "Requirement already satisfied: pytube>=15.0.0 in /opt/homebrew/anaconda3/lib/python3.12/site-packages (from crewai_tools) (15.0.0)\n",
      "Requirement already satisfied: requests>=2.31.0 in /opt/homebrew/anaconda3/lib/python3.12/site-packages (from crewai_tools) (2.32.3)\n",
      "Requirement already satisfied: cryptography>=43.0.1 in /opt/homebrew/anaconda3/lib/python3.12/site-packages (from auth0-python>=4.7.1->crewai) (44.0.2)\n",
      "Requirement already satisfied: pyjwt>=2.8.0 in /opt/homebrew/anaconda3/lib/python3.12/site-packages (from auth0-python>=4.7.1->crewai) (2.8.0)\n",
      "Requirement already satisfied: urllib3>=2.2.3 in /opt/homebrew/anaconda3/lib/python3.12/site-packages (from auth0-python>=4.7.1->crewai) (2.4.0)\n",
      "Requirement already satisfied: build>=1.0.3 in /opt/homebrew/anaconda3/lib/python3.12/site-packages (from chromadb>=0.5.23->crewai) (1.2.2.post1)\n",
      "Requirement already satisfied: chroma-hnswlib==0.7.6 in /opt/homebrew/anaconda3/lib/python3.12/site-packages (from chromadb>=0.5.23->crewai) (0.7.6)\n",
      "Requirement already satisfied: fastapi>=0.95.2 in /opt/homebrew/anaconda3/lib/python3.12/site-packages (from chromadb>=0.5.23->crewai) (0.115.9)\n",
      "Requirement already satisfied: uvicorn>=0.18.3 in /opt/homebrew/anaconda3/lib/python3.12/site-packages (from uvicorn[standard]>=0.18.3->chromadb>=0.5.23->crewai) (0.34.1)\n",
      "Requirement already satisfied: numpy>=1.22.5 in /opt/homebrew/anaconda3/lib/python3.12/site-packages (from chromadb>=0.5.23->crewai) (1.26.4)\n",
      "Requirement already satisfied: posthog>=2.4.0 in /opt/homebrew/anaconda3/lib/python3.12/site-packages (from chromadb>=0.5.23->crewai) (3.24.1)\n",
      "Requirement already satisfied: typing_extensions>=4.5.0 in /opt/homebrew/anaconda3/lib/python3.12/site-packages (from chromadb>=0.5.23->crewai) (4.12.2)\n",
      "Requirement already satisfied: onnxruntime>=1.14.1 in /opt/homebrew/anaconda3/lib/python3.12/site-packages (from chromadb>=0.5.23->crewai) (1.21.0)\n",
      "Requirement already satisfied: opentelemetry-exporter-otlp-proto-grpc>=1.2.0 in /opt/homebrew/anaconda3/lib/python3.12/site-packages (from chromadb>=0.5.23->crewai) (1.32.1)\n",
      "Requirement already satisfied: opentelemetry-instrumentation-fastapi>=0.41b0 in /opt/homebrew/anaconda3/lib/python3.12/site-packages (from chromadb>=0.5.23->crewai) (0.53b1)\n",
      "Requirement already satisfied: pypika>=0.48.9 in /opt/homebrew/anaconda3/lib/python3.12/site-packages (from chromadb>=0.5.23->crewai) (0.48.9)\n",
      "Requirement already satisfied: tqdm>=4.65.0 in /opt/homebrew/anaconda3/lib/python3.12/site-packages (from chromadb>=0.5.23->crewai) (4.66.4)\n",
      "Requirement already satisfied: overrides>=7.3.1 in /opt/homebrew/anaconda3/lib/python3.12/site-packages (from chromadb>=0.5.23->crewai) (7.4.0)\n",
      "Requirement already satisfied: importlib-resources in /opt/homebrew/anaconda3/lib/python3.12/site-packages (from chromadb>=0.5.23->crewai) (6.5.2)\n",
      "Requirement already satisfied: grpcio>=1.58.0 in /opt/homebrew/anaconda3/lib/python3.12/site-packages (from chromadb>=0.5.23->crewai) (1.71.0)\n",
      "Requirement already satisfied: bcrypt>=4.0.1 in /opt/homebrew/anaconda3/lib/python3.12/site-packages (from chromadb>=0.5.23->crewai) (4.3.0)\n",
      "Requirement already satisfied: typer>=0.9.0 in /opt/homebrew/anaconda3/lib/python3.12/site-packages (from chromadb>=0.5.23->crewai) (0.15.2)\n",
      "Requirement already satisfied: kubernetes>=28.1.0 in /opt/homebrew/anaconda3/lib/python3.12/site-packages (from chromadb>=0.5.23->crewai) (32.0.1)\n",
      "Requirement already satisfied: tenacity>=8.2.3 in /opt/homebrew/anaconda3/lib/python3.12/site-packages (from chromadb>=0.5.23->crewai) (9.1.2)\n",
      "Requirement already satisfied: PyYAML>=6.0.0 in /opt/homebrew/anaconda3/lib/python3.12/site-packages (from chromadb>=0.5.23->crewai) (6.0.1)\n",
      "Requirement already satisfied: mmh3>=4.0.1 in /opt/homebrew/anaconda3/lib/python3.12/site-packages (from chromadb>=0.5.23->crewai) (5.1.0)\n",
      "Requirement already satisfied: orjson>=3.9.12 in /opt/homebrew/anaconda3/lib/python3.12/site-packages (from chromadb>=0.5.23->crewai) (3.10.16)\n",
      "Requirement already satisfied: rich>=10.11.0 in /opt/homebrew/anaconda3/lib/python3.12/site-packages (from chromadb>=0.5.23->crewai) (13.9.4)\n",
      "Requirement already satisfied: alembic<2.0.0,>=1.13.1 in /opt/homebrew/anaconda3/lib/python3.12/site-packages (from embedchain>=0.1.114->crewai_tools) (1.15.1)\n",
      "Requirement already satisfied: beautifulsoup4<5.0.0,>=4.12.2 in /opt/homebrew/anaconda3/lib/python3.12/site-packages (from embedchain>=0.1.114->crewai_tools) (4.12.3)\n",
      "Requirement already satisfied: gptcache<0.2.0,>=0.1.43 in /opt/homebrew/anaconda3/lib/python3.12/site-packages (from embedchain>=0.1.114->crewai_tools) (0.1.44)\n",
      "Requirement already satisfied: langchain<0.4.0,>=0.3.1 in /opt/homebrew/anaconda3/lib/python3.12/site-packages (from embedchain>=0.1.114->crewai_tools) (0.3.23)\n",
      "Requirement already satisfied: langchain-cohere<0.4.0,>=0.3.0 in /opt/homebrew/anaconda3/lib/python3.12/site-packages (from embedchain>=0.1.114->crewai_tools) (0.3.5)\n",
      "Requirement already satisfied: langchain-community<0.4.0,>=0.3.1 in /opt/homebrew/anaconda3/lib/python3.12/site-packages (from embedchain>=0.1.114->crewai_tools) (0.3.21)\n",
      "Requirement already satisfied: langchain-openai<0.3.0,>=0.2.1 in /opt/homebrew/anaconda3/lib/python3.12/site-packages (from embedchain>=0.1.114->crewai_tools) (0.2.14)\n",
      "Requirement already satisfied: langsmith<0.4.0,>=0.3.18 in /opt/homebrew/anaconda3/lib/python3.12/site-packages (from embedchain>=0.1.114->crewai_tools) (0.3.31)\n",
      "Requirement already satisfied: mem0ai<0.2.0,>=0.1.54 in /opt/homebrew/anaconda3/lib/python3.12/site-packages (from embedchain>=0.1.114->crewai_tools) (0.1.90)\n",
      "Requirement already satisfied: pypdf<6.0.0,>=5.0.0 in /opt/homebrew/anaconda3/lib/python3.12/site-packages (from embedchain>=0.1.114->crewai_tools) (5.4.0)\n",
      "Requirement already satisfied: pysbd<0.4.0,>=0.3.4 in /opt/homebrew/anaconda3/lib/python3.12/site-packages (from embedchain>=0.1.114->crewai_tools) (0.3.4)\n",
      "Requirement already satisfied: schema<0.8.0,>=0.7.5 in /opt/homebrew/anaconda3/lib/python3.12/site-packages (from embedchain>=0.1.114->crewai_tools) (0.7.7)\n",
      "Requirement already satisfied: sqlalchemy<3.0.0,>=2.0.27 in /opt/homebrew/anaconda3/lib/python3.12/site-packages (from embedchain>=0.1.114->crewai_tools) (2.0.40)\n",
      "Requirement already satisfied: docstring-parser<1.0,>=0.16 in /opt/homebrew/anaconda3/lib/python3.12/site-packages (from instructor>=1.3.3->crewai) (0.16)\n",
      "Requirement already satisfied: jiter<0.9,>=0.6.1 in /opt/homebrew/anaconda3/lib/python3.12/site-packages (from instructor>=1.3.3->crewai) (0.8.2)\n",
      "Requirement already satisfied: pydantic-core<3.0.0,>=2.18.0 in /opt/homebrew/anaconda3/lib/python3.12/site-packages (from instructor>=1.3.3->crewai) (2.33.1)\n",
      "Requirement already satisfied: deprecation in /opt/homebrew/anaconda3/lib/python3.12/site-packages (from lancedb>=0.5.4->crewai_tools) (2.1.0)\n",
      "Requirement already satisfied: pyarrow>=14 in /opt/homebrew/anaconda3/lib/python3.12/site-packages (from lancedb>=0.5.4->crewai_tools) (14.0.2)\n",
      "Requirement already satisfied: packaging in /opt/homebrew/anaconda3/lib/python3.12/site-packages (from lancedb>=0.5.4->crewai_tools) (23.2)\n",
      "Requirement already satisfied: anyio<5,>=3.5.0 in /opt/homebrew/anaconda3/lib/python3.12/site-packages (from openai>=1.13.3->crewai) (4.2.0)\n",
      "Requirement already satisfied: distro<2,>=1.7.0 in /opt/homebrew/anaconda3/lib/python3.12/site-packages (from openai>=1.13.3->crewai) (1.9.0)\n",
      "Requirement already satisfied: sniffio in /opt/homebrew/anaconda3/lib/python3.12/site-packages (from openai>=1.13.3->crewai) (1.3.0)\n",
      "Requirement already satisfied: et-xmlfile in /opt/homebrew/anaconda3/lib/python3.12/site-packages (from openpyxl>=3.1.5->crewai) (1.1.0)\n",
      "Requirement already satisfied: deprecated>=1.2.6 in /opt/homebrew/anaconda3/lib/python3.12/site-packages (from opentelemetry-api>=1.30.0->crewai) (1.2.18)\n",
      "Requirement already satisfied: googleapis-common-protos~=1.52 in /opt/homebrew/anaconda3/lib/python3.12/site-packages (from opentelemetry-exporter-otlp-proto-http>=1.30.0->crewai) (1.70.0)\n",
      "Requirement already satisfied: opentelemetry-exporter-otlp-proto-common==1.32.1 in /opt/homebrew/anaconda3/lib/python3.12/site-packages (from opentelemetry-exporter-otlp-proto-http>=1.30.0->crewai) (1.32.1)\n",
      "Requirement already satisfied: opentelemetry-proto==1.32.1 in /opt/homebrew/anaconda3/lib/python3.12/site-packages (from opentelemetry-exporter-otlp-proto-http>=1.30.0->crewai) (1.32.1)\n",
      "Requirement already satisfied: protobuf<6.0,>=5.0 in /opt/homebrew/anaconda3/lib/python3.12/site-packages (from opentelemetry-proto==1.32.1->opentelemetry-exporter-otlp-proto-http>=1.30.0->crewai) (5.29.4)\n",
      "Requirement already satisfied: opentelemetry-semantic-conventions==0.53b1 in /opt/homebrew/anaconda3/lib/python3.12/site-packages (from opentelemetry-sdk>=1.30.0->crewai) (0.53b1)\n",
      "Requirement already satisfied: pdfminer.six==20250327 in /opt/homebrew/anaconda3/lib/python3.12/site-packages (from pdfplumber>=0.11.4->crewai) (20250327)\n",
      "Requirement already satisfied: Pillow>=9.1 in /opt/homebrew/anaconda3/lib/python3.12/site-packages (from pdfplumber>=0.11.4->crewai) (10.3.0)\n",
      "Requirement already satisfied: pypdfium2>=4.18.0 in /opt/homebrew/anaconda3/lib/python3.12/site-packages (from pdfplumber>=0.11.4->crewai) (4.30.1)\n",
      "Requirement already satisfied: charset-normalizer>=2.0.0 in /opt/homebrew/anaconda3/lib/python3.12/site-packages (from pdfminer.six==20250327->pdfplumber>=0.11.4->crewai) (2.0.4)\n",
      "Requirement already satisfied: annotated-types>=0.6.0 in /opt/homebrew/anaconda3/lib/python3.12/site-packages (from pydantic>=2.4.2->crewai) (0.6.0)\n",
      "Requirement already satisfied: typing-inspection>=0.4.0 in /opt/homebrew/anaconda3/lib/python3.12/site-packages (from pydantic>=2.4.2->crewai) (0.4.0)\n",
      "Requirement already satisfied: nodeenv>=1.6.0 in /opt/homebrew/anaconda3/lib/python3.12/site-packages (from pyright>=1.1.350->crewai_tools) (1.9.1)\n",
      "Requirement already satisfied: ipython>=5.3.0 in /opt/homebrew/anaconda3/lib/python3.12/site-packages (from pyvis>=0.3.2->crewai) (8.25.0)\n",
      "Requirement already satisfied: jsonpickle>=1.4.1 in /opt/homebrew/anaconda3/lib/python3.12/site-packages (from pyvis>=0.3.2->crewai) (4.0.5)\n",
      "Requirement already satisfied: networkx>=1.11 in /opt/homebrew/anaconda3/lib/python3.12/site-packages (from pyvis>=0.3.2->crewai) (3.2.1)\n",
      "Requirement already satisfied: idna<4,>=2.5 in /opt/homebrew/anaconda3/lib/python3.12/site-packages (from requests>=2.31.0->crewai_tools) (3.7)\n",
      "Requirement already satisfied: certifi>=2017.4.17 in /opt/homebrew/anaconda3/lib/python3.12/site-packages (from requests>=2.31.0->crewai_tools) (2025.1.31)\n",
      "Requirement already satisfied: aiohappyeyeballs>=2.3.0 in /opt/homebrew/anaconda3/lib/python3.12/site-packages (from aiohttp->litellm==1.60.2->crewai) (2.6.1)\n",
      "Requirement already satisfied: aiosignal>=1.1.2 in /opt/homebrew/anaconda3/lib/python3.12/site-packages (from aiohttp->litellm==1.60.2->crewai) (1.2.0)\n",
      "Requirement already satisfied: attrs>=17.3.0 in /opt/homebrew/anaconda3/lib/python3.12/site-packages (from aiohttp->litellm==1.60.2->crewai) (23.1.0)\n",
      "Requirement already satisfied: frozenlist>=1.1.1 in /opt/homebrew/anaconda3/lib/python3.12/site-packages (from aiohttp->litellm==1.60.2->crewai) (1.4.0)\n",
      "Requirement already satisfied: multidict<7.0,>=4.5 in /opt/homebrew/anaconda3/lib/python3.12/site-packages (from aiohttp->litellm==1.60.2->crewai) (6.0.4)\n",
      "Requirement already satisfied: propcache>=0.2.0 in /opt/homebrew/anaconda3/lib/python3.12/site-packages (from aiohttp->litellm==1.60.2->crewai) (0.3.1)\n",
      "Requirement already satisfied: yarl<2.0,>=1.17.0 in /opt/homebrew/anaconda3/lib/python3.12/site-packages (from aiohttp->litellm==1.60.2->crewai) (1.19.0)\n",
      "Requirement already satisfied: Mako in /opt/homebrew/anaconda3/lib/python3.12/site-packages (from alembic<2.0.0,>=1.13.1->embedchain>=0.1.114->crewai_tools) (1.3.9)\n",
      "Requirement already satisfied: soupsieve>1.2 in /opt/homebrew/anaconda3/lib/python3.12/site-packages (from beautifulsoup4<5.0.0,>=4.12.2->embedchain>=0.1.114->crewai_tools) (2.5)\n",
      "Requirement already satisfied: pyproject_hooks in /opt/homebrew/anaconda3/lib/python3.12/site-packages (from build>=1.0.3->chromadb>=0.5.23->crewai) (1.2.0)\n",
      "Requirement already satisfied: cffi>=1.12 in /opt/homebrew/anaconda3/lib/python3.12/site-packages (from cryptography>=43.0.1->auth0-python>=4.7.1->crewai) (1.16.0)\n",
      "Requirement already satisfied: wrapt<2,>=1.10 in /opt/homebrew/anaconda3/lib/python3.12/site-packages (from deprecated>=1.2.6->opentelemetry-api>=1.30.0->crewai) (1.14.1)\n",
      "Requirement already satisfied: starlette<0.46.0,>=0.40.0 in /opt/homebrew/anaconda3/lib/python3.12/site-packages (from fastapi>=0.95.2->chromadb>=0.5.23->crewai) (0.45.3)\n",
      "Requirement already satisfied: cachetools in /opt/homebrew/anaconda3/lib/python3.12/site-packages (from gptcache<0.2.0,>=0.1.43->embedchain>=0.1.114->crewai_tools) (5.3.3)\n",
      "Requirement already satisfied: httpcore==1.* in /opt/homebrew/anaconda3/lib/python3.12/site-packages (from httpx<0.28.0,>=0.23.0->litellm==1.60.2->crewai) (1.0.8)\n",
      "Requirement already satisfied: h11<0.15,>=0.13 in /opt/homebrew/anaconda3/lib/python3.12/site-packages (from httpcore==1.*->httpx<0.28.0,>=0.23.0->litellm==1.60.2->crewai) (0.14.0)\n",
      "Requirement already satisfied: zipp>=0.5 in /opt/homebrew/anaconda3/lib/python3.12/site-packages (from importlib-metadata>=6.8.0->litellm==1.60.2->crewai) (3.17.0)\n",
      "Requirement already satisfied: decorator in /opt/homebrew/anaconda3/lib/python3.12/site-packages (from ipython>=5.3.0->pyvis>=0.3.2->crewai) (5.1.1)\n",
      "Requirement already satisfied: jedi>=0.16 in /opt/homebrew/anaconda3/lib/python3.12/site-packages (from ipython>=5.3.0->pyvis>=0.3.2->crewai) (0.18.1)\n",
      "Requirement already satisfied: matplotlib-inline in /opt/homebrew/anaconda3/lib/python3.12/site-packages (from ipython>=5.3.0->pyvis>=0.3.2->crewai) (0.1.6)\n",
      "Requirement already satisfied: prompt-toolkit<3.1.0,>=3.0.41 in /opt/homebrew/anaconda3/lib/python3.12/site-packages (from ipython>=5.3.0->pyvis>=0.3.2->crewai) (3.0.43)\n",
      "Requirement already satisfied: pygments>=2.4.0 in /opt/homebrew/anaconda3/lib/python3.12/site-packages (from ipython>=5.3.0->pyvis>=0.3.2->crewai) (2.15.1)\n",
      "Requirement already satisfied: stack-data in /opt/homebrew/anaconda3/lib/python3.12/site-packages (from ipython>=5.3.0->pyvis>=0.3.2->crewai) (0.2.0)\n",
      "Requirement already satisfied: traitlets>=5.13.0 in /opt/homebrew/anaconda3/lib/python3.12/site-packages (from ipython>=5.3.0->pyvis>=0.3.2->crewai) (5.14.3)\n",
      "Requirement already satisfied: pexpect>4.3 in /opt/homebrew/anaconda3/lib/python3.12/site-packages (from ipython>=5.3.0->pyvis>=0.3.2->crewai) (4.8.0)\n",
      "Requirement already satisfied: MarkupSafe>=2.0 in /opt/homebrew/anaconda3/lib/python3.12/site-packages (from jinja2<4.0.0,>=3.1.2->litellm==1.60.2->crewai) (2.1.3)\n",
      "Requirement already satisfied: jsonschema-specifications>=2023.03.6 in /opt/homebrew/anaconda3/lib/python3.12/site-packages (from jsonschema<5.0.0,>=4.22.0->litellm==1.60.2->crewai) (2023.7.1)\n",
      "Requirement already satisfied: referencing>=0.28.4 in /opt/homebrew/anaconda3/lib/python3.12/site-packages (from jsonschema<5.0.0,>=4.22.0->litellm==1.60.2->crewai) (0.30.2)\n",
      "Requirement already satisfied: rpds-py>=0.7.1 in /opt/homebrew/anaconda3/lib/python3.12/site-packages (from jsonschema<5.0.0,>=4.22.0->litellm==1.60.2->crewai) (0.10.6)\n",
      "Requirement already satisfied: six>=1.9.0 in /opt/homebrew/anaconda3/lib/python3.12/site-packages (from kubernetes>=28.1.0->chromadb>=0.5.23->crewai) (1.16.0)\n",
      "Requirement already satisfied: python-dateutil>=2.5.3 in /opt/homebrew/anaconda3/lib/python3.12/site-packages (from kubernetes>=28.1.0->chromadb>=0.5.23->crewai) (2.9.0.post0)\n",
      "Requirement already satisfied: google-auth>=1.0.1 in /opt/homebrew/anaconda3/lib/python3.12/site-packages (from kubernetes>=28.1.0->chromadb>=0.5.23->crewai) (2.38.0)\n",
      "Requirement already satisfied: websocket-client!=0.40.0,!=0.41.*,!=0.42.*,>=0.32.0 in /opt/homebrew/anaconda3/lib/python3.12/site-packages (from kubernetes>=28.1.0->chromadb>=0.5.23->crewai) (1.8.0)\n",
      "Requirement already satisfied: requests-oauthlib in /opt/homebrew/anaconda3/lib/python3.12/site-packages (from kubernetes>=28.1.0->chromadb>=0.5.23->crewai) (2.0.0)\n",
      "Requirement already satisfied: oauthlib>=3.2.2 in /opt/homebrew/anaconda3/lib/python3.12/site-packages (from kubernetes>=28.1.0->chromadb>=0.5.23->crewai) (3.2.2)\n",
      "Requirement already satisfied: durationpy>=0.7 in /opt/homebrew/anaconda3/lib/python3.12/site-packages (from kubernetes>=28.1.0->chromadb>=0.5.23->crewai) (0.9)\n",
      "Requirement already satisfied: langchain-core<1.0.0,>=0.3.51 in /opt/homebrew/anaconda3/lib/python3.12/site-packages (from langchain<0.4.0,>=0.3.1->embedchain>=0.1.114->crewai_tools) (0.3.52)\n",
      "Requirement already satisfied: langchain-text-splitters<1.0.0,>=0.3.8 in /opt/homebrew/anaconda3/lib/python3.12/site-packages (from langchain<0.4.0,>=0.3.1->embedchain>=0.1.114->crewai_tools) (0.3.8)\n",
      "Requirement already satisfied: cohere<6.0,>=5.5.6 in /opt/homebrew/anaconda3/lib/python3.12/site-packages (from langchain-cohere<0.4.0,>=0.3.0->embedchain>=0.1.114->crewai_tools) (5.15.0)\n",
      "Requirement already satisfied: langchain-experimental<0.4.0,>=0.3.0 in /opt/homebrew/anaconda3/lib/python3.12/site-packages (from langchain-cohere<0.4.0,>=0.3.0->embedchain>=0.1.114->crewai_tools) (0.3.4)\n",
      "Requirement already satisfied: pandas>=1.4.3 in /opt/homebrew/anaconda3/lib/python3.12/site-packages (from langchain-cohere<0.4.0,>=0.3.0->embedchain>=0.1.114->crewai_tools) (2.2.2)\n",
      "Requirement already satisfied: tabulate<0.10.0,>=0.9.0 in /opt/homebrew/anaconda3/lib/python3.12/site-packages (from langchain-cohere<0.4.0,>=0.3.0->embedchain>=0.1.114->crewai_tools) (0.9.0)\n",
      "Requirement already satisfied: dataclasses-json<0.7,>=0.5.7 in /opt/homebrew/anaconda3/lib/python3.12/site-packages (from langchain-community<0.4.0,>=0.3.1->embedchain>=0.1.114->crewai_tools) (0.6.7)\n",
      "Requirement already satisfied: pydantic-settings<3.0.0,>=2.4.0 in /opt/homebrew/anaconda3/lib/python3.12/site-packages (from langchain-community<0.4.0,>=0.3.1->embedchain>=0.1.114->crewai_tools) (2.8.1)\n",
      "Requirement already satisfied: httpx-sse<1.0.0,>=0.4.0 in /opt/homebrew/anaconda3/lib/python3.12/site-packages (from langchain-community<0.4.0,>=0.3.1->embedchain>=0.1.114->crewai_tools) (0.4.0)\n",
      "Requirement already satisfied: requests-toolbelt<2.0.0,>=1.0.0 in /opt/homebrew/anaconda3/lib/python3.12/site-packages (from langsmith<0.4.0,>=0.3.18->embedchain>=0.1.114->crewai_tools) (1.0.0)\n",
      "Requirement already satisfied: zstandard<0.24.0,>=0.23.0 in /opt/homebrew/anaconda3/lib/python3.12/site-packages (from langsmith<0.4.0,>=0.3.18->embedchain>=0.1.114->crewai_tools) (0.23.0)\n",
      "Requirement already satisfied: psycopg2-binary<3.0.0,>=2.9.10 in /opt/homebrew/anaconda3/lib/python3.12/site-packages (from mem0ai<0.2.0,>=0.1.54->embedchain>=0.1.114->crewai_tools) (2.9.10)\n",
      "Requirement already satisfied: pytz<2025.0,>=2024.1 in /opt/homebrew/anaconda3/lib/python3.12/site-packages (from mem0ai<0.2.0,>=0.1.54->embedchain>=0.1.114->crewai_tools) (2024.1)\n",
      "Requirement already satisfied: qdrant-client<2.0.0,>=1.9.1 in /opt/homebrew/anaconda3/lib/python3.12/site-packages (from mem0ai<0.2.0,>=0.1.54->embedchain>=0.1.114->crewai_tools) (1.13.3)\n",
      "Requirement already satisfied: coloredlogs in /opt/homebrew/anaconda3/lib/python3.12/site-packages (from onnxruntime>=1.14.1->chromadb>=0.5.23->crewai) (15.0.1)\n",
      "Requirement already satisfied: flatbuffers in /opt/homebrew/anaconda3/lib/python3.12/site-packages (from onnxruntime>=1.14.1->chromadb>=0.5.23->crewai) (25.2.10)\n",
      "Requirement already satisfied: sympy in /opt/homebrew/anaconda3/lib/python3.12/site-packages (from onnxruntime>=1.14.1->chromadb>=0.5.23->crewai) (1.13.1)\n",
      "Requirement already satisfied: opentelemetry-instrumentation-asgi==0.53b1 in /opt/homebrew/anaconda3/lib/python3.12/site-packages (from opentelemetry-instrumentation-fastapi>=0.41b0->chromadb>=0.5.23->crewai) (0.53b1)\n",
      "Requirement already satisfied: opentelemetry-instrumentation==0.53b1 in /opt/homebrew/anaconda3/lib/python3.12/site-packages (from opentelemetry-instrumentation-fastapi>=0.41b0->chromadb>=0.5.23->crewai) (0.53b1)\n",
      "Requirement already satisfied: opentelemetry-util-http==0.53b1 in /opt/homebrew/anaconda3/lib/python3.12/site-packages (from opentelemetry-instrumentation-fastapi>=0.41b0->chromadb>=0.5.23->crewai) (0.53b1)\n",
      "Requirement already satisfied: asgiref~=3.0 in /opt/homebrew/anaconda3/lib/python3.12/site-packages (from opentelemetry-instrumentation-asgi==0.53b1->opentelemetry-instrumentation-fastapi>=0.41b0->chromadb>=0.5.23->crewai) (3.8.1)\n",
      "Requirement already satisfied: monotonic>=1.5 in /opt/homebrew/anaconda3/lib/python3.12/site-packages (from posthog>=2.4.0->chromadb>=0.5.23->crewai) (1.6)\n",
      "Requirement already satisfied: backoff>=1.10.0 in /opt/homebrew/anaconda3/lib/python3.12/site-packages (from posthog>=2.4.0->chromadb>=0.5.23->crewai) (2.2.1)\n",
      "Requirement already satisfied: markdown-it-py>=2.2.0 in /opt/homebrew/anaconda3/lib/python3.12/site-packages (from rich>=10.11.0->chromadb>=0.5.23->crewai) (2.2.0)\n",
      "Requirement already satisfied: huggingface-hub<1.0,>=0.16.4 in /opt/homebrew/anaconda3/lib/python3.12/site-packages (from tokenizers->litellm==1.60.2->crewai) (0.29.3)\n",
      "Requirement already satisfied: shellingham>=1.3.0 in /opt/homebrew/anaconda3/lib/python3.12/site-packages (from typer>=0.9.0->chromadb>=0.5.23->crewai) (1.5.4)\n",
      "Requirement already satisfied: httptools>=0.6.3 in /opt/homebrew/anaconda3/lib/python3.12/site-packages (from uvicorn[standard]>=0.18.3->chromadb>=0.5.23->crewai) (0.6.4)\n",
      "Requirement already satisfied: uvloop!=0.15.0,!=0.15.1,>=0.14.0 in /opt/homebrew/anaconda3/lib/python3.12/site-packages (from uvicorn[standard]>=0.18.3->chromadb>=0.5.23->crewai) (0.21.0)\n",
      "Requirement already satisfied: watchfiles>=0.13 in /opt/homebrew/anaconda3/lib/python3.12/site-packages (from uvicorn[standard]>=0.18.3->chromadb>=0.5.23->crewai) (1.0.5)\n",
      "Requirement already satisfied: websockets>=10.4 in /opt/homebrew/anaconda3/lib/python3.12/site-packages (from uvicorn[standard]>=0.18.3->chromadb>=0.5.23->crewai) (15.0.1)\n",
      "Requirement already satisfied: pycparser in /opt/homebrew/anaconda3/lib/python3.12/site-packages (from cffi>=1.12->cryptography>=43.0.1->auth0-python>=4.7.1->crewai) (2.21)\n",
      "Requirement already satisfied: fastavro<2.0.0,>=1.9.4 in /opt/homebrew/anaconda3/lib/python3.12/site-packages (from cohere<6.0,>=5.5.6->langchain-cohere<0.4.0,>=0.3.0->embedchain>=0.1.114->crewai_tools) (1.10.0)\n",
      "Requirement already satisfied: types-requests<3.0.0,>=2.0.0 in /opt/homebrew/anaconda3/lib/python3.12/site-packages (from cohere<6.0,>=5.5.6->langchain-cohere<0.4.0,>=0.3.0->embedchain>=0.1.114->crewai_tools) (2.32.0.20250328)\n",
      "Requirement already satisfied: marshmallow<4.0.0,>=3.18.0 in /opt/homebrew/anaconda3/lib/python3.12/site-packages (from dataclasses-json<0.7,>=0.5.7->langchain-community<0.4.0,>=0.3.1->embedchain>=0.1.114->crewai_tools) (3.26.1)\n",
      "Requirement already satisfied: typing-inspect<1,>=0.4.0 in /opt/homebrew/anaconda3/lib/python3.12/site-packages (from dataclasses-json<0.7,>=0.5.7->langchain-community<0.4.0,>=0.3.1->embedchain>=0.1.114->crewai_tools) (0.9.0)\n",
      "Requirement already satisfied: pyasn1-modules>=0.2.1 in /opt/homebrew/anaconda3/lib/python3.12/site-packages (from google-auth>=1.0.1->kubernetes>=28.1.0->chromadb>=0.5.23->crewai) (0.2.8)\n",
      "Requirement already satisfied: rsa<5,>=3.1.4 in /opt/homebrew/anaconda3/lib/python3.12/site-packages (from google-auth>=1.0.1->kubernetes>=28.1.0->chromadb>=0.5.23->crewai) (4.9)\n",
      "Requirement already satisfied: filelock in /opt/homebrew/anaconda3/lib/python3.12/site-packages (from huggingface-hub<1.0,>=0.16.4->tokenizers->litellm==1.60.2->crewai) (3.13.1)\n",
      "Requirement already satisfied: fsspec>=2023.5.0 in /opt/homebrew/anaconda3/lib/python3.12/site-packages (from huggingface-hub<1.0,>=0.16.4->tokenizers->litellm==1.60.2->crewai) (2024.3.1)\n",
      "Requirement already satisfied: parso<0.9.0,>=0.8.0 in /opt/homebrew/anaconda3/lib/python3.12/site-packages (from jedi>=0.16->ipython>=5.3.0->pyvis>=0.3.2->crewai) (0.8.3)\n",
      "Requirement already satisfied: jsonpatch<2.0,>=1.33 in /opt/homebrew/anaconda3/lib/python3.12/site-packages (from langchain-core<1.0.0,>=0.3.51->langchain<0.4.0,>=0.3.1->embedchain>=0.1.114->crewai_tools) (1.33)\n",
      "Requirement already satisfied: mdurl~=0.1 in /opt/homebrew/anaconda3/lib/python3.12/site-packages (from markdown-it-py>=2.2.0->rich>=10.11.0->chromadb>=0.5.23->crewai) (0.1.0)\n",
      "Requirement already satisfied: tzdata>=2022.7 in /opt/homebrew/anaconda3/lib/python3.12/site-packages (from pandas>=1.4.3->langchain-cohere<0.4.0,>=0.3.0->embedchain>=0.1.114->crewai_tools) (2023.3)\n",
      "Requirement already satisfied: ptyprocess>=0.5 in /opt/homebrew/anaconda3/lib/python3.12/site-packages (from pexpect>4.3->ipython>=5.3.0->pyvis>=0.3.2->crewai) (0.7.0)\n",
      "Requirement already satisfied: wcwidth in /opt/homebrew/anaconda3/lib/python3.12/site-packages (from prompt-toolkit<3.1.0,>=3.0.41->ipython>=5.3.0->pyvis>=0.3.2->crewai) (0.2.5)\n",
      "Requirement already satisfied: grpcio-tools>=1.41.0 in /opt/homebrew/anaconda3/lib/python3.12/site-packages (from qdrant-client<2.0.0,>=1.9.1->mem0ai<0.2.0,>=0.1.54->embedchain>=0.1.114->crewai_tools) (1.71.0)\n",
      "Requirement already satisfied: portalocker<3.0.0,>=2.7.0 in /opt/homebrew/anaconda3/lib/python3.12/site-packages (from qdrant-client<2.0.0,>=1.9.1->mem0ai<0.2.0,>=0.1.54->embedchain>=0.1.114->crewai_tools) (2.10.1)\n",
      "Requirement already satisfied: humanfriendly>=9.1 in /opt/homebrew/anaconda3/lib/python3.12/site-packages (from coloredlogs->onnxruntime>=1.14.1->chromadb>=0.5.23->crewai) (10.0)\n",
      "Requirement already satisfied: executing in /opt/homebrew/anaconda3/lib/python3.12/site-packages (from stack-data->ipython>=5.3.0->pyvis>=0.3.2->crewai) (0.8.3)\n",
      "Requirement already satisfied: asttokens in /opt/homebrew/anaconda3/lib/python3.12/site-packages (from stack-data->ipython>=5.3.0->pyvis>=0.3.2->crewai) (2.0.5)\n",
      "Requirement already satisfied: pure-eval in /opt/homebrew/anaconda3/lib/python3.12/site-packages (from stack-data->ipython>=5.3.0->pyvis>=0.3.2->crewai) (0.2.2)\n",
      "Requirement already satisfied: mpmath<1.4,>=1.1.0 in /opt/homebrew/anaconda3/lib/python3.12/site-packages (from sympy->onnxruntime>=1.14.1->chromadb>=0.5.23->crewai) (1.3.0)\n",
      "Requirement already satisfied: setuptools in /opt/homebrew/anaconda3/lib/python3.12/site-packages (from grpcio-tools>=1.41.0->qdrant-client<2.0.0,>=1.9.1->mem0ai<0.2.0,>=0.1.54->embedchain>=0.1.114->crewai_tools) (69.5.1)\n",
      "Requirement already satisfied: h2<5,>=3 in /opt/homebrew/anaconda3/lib/python3.12/site-packages (from httpx[http2]>=0.20.0->qdrant-client<2.0.0,>=1.9.1->mem0ai<0.2.0,>=0.1.54->embedchain>=0.1.114->crewai_tools) (4.2.0)\n",
      "Requirement already satisfied: jsonpointer>=1.9 in /opt/homebrew/anaconda3/lib/python3.12/site-packages (from jsonpatch<2.0,>=1.33->langchain-core<1.0.0,>=0.3.51->langchain<0.4.0,>=0.3.1->embedchain>=0.1.114->crewai_tools) (2.1)\n",
      "Requirement already satisfied: pyasn1<0.5.0,>=0.4.6 in /opt/homebrew/anaconda3/lib/python3.12/site-packages (from pyasn1-modules>=0.2.1->google-auth>=1.0.1->kubernetes>=28.1.0->chromadb>=0.5.23->crewai) (0.4.8)\n",
      "Requirement already satisfied: mypy-extensions>=0.3.0 in /opt/homebrew/anaconda3/lib/python3.12/site-packages (from typing-inspect<1,>=0.4.0->dataclasses-json<0.7,>=0.5.7->langchain-community<0.4.0,>=0.3.1->embedchain>=0.1.114->crewai_tools) (1.0.0)\n",
      "Requirement already satisfied: hyperframe<7,>=6.1 in /opt/homebrew/anaconda3/lib/python3.12/site-packages (from h2<5,>=3->httpx[http2]>=0.20.0->qdrant-client<2.0.0,>=1.9.1->mem0ai<0.2.0,>=0.1.54->embedchain>=0.1.114->crewai_tools) (6.1.0)\n",
      "Requirement already satisfied: hpack<5,>=4.1 in /opt/homebrew/anaconda3/lib/python3.12/site-packages (from h2<5,>=3->httpx[http2]>=0.20.0->qdrant-client<2.0.0,>=1.9.1->mem0ai<0.2.0,>=0.1.54->embedchain>=0.1.114->crewai_tools) (4.1.0)\n",
      "Using cached dotenv-0.9.9-py2.py3-none-any.whl (1.9 kB)\n",
      "Installing collected packages: dotenv\n",
      "Successfully installed dotenv-0.9.9\n"
     ]
    }
   ],
   "source": [
    "!pip install crewai crewai_tools dotenv"
   ]
  },
  {
   "cell_type": "code",
   "execution_count": 6,
   "metadata": {},
   "outputs": [
    {
     "name": "stdout",
     "output_type": "stream",
     "text": [
      "Requirement already satisfied: langchain in /opt/homebrew/anaconda3/lib/python3.12/site-packages (0.3.23)\n",
      "Collecting langchain-google-genai\n",
      "  Using cached langchain_google_genai-2.1.2-py3-none-any.whl.metadata (4.7 kB)\n",
      "Requirement already satisfied: python-dotenv in /opt/homebrew/anaconda3/lib/python3.12/site-packages (1.1.0)\n",
      "Requirement already satisfied: langchain-core<1.0.0,>=0.3.51 in /opt/homebrew/anaconda3/lib/python3.12/site-packages (from langchain) (0.3.52)\n",
      "Requirement already satisfied: langchain-text-splitters<1.0.0,>=0.3.8 in /opt/homebrew/anaconda3/lib/python3.12/site-packages (from langchain) (0.3.8)\n",
      "Requirement already satisfied: langsmith<0.4,>=0.1.17 in /opt/homebrew/anaconda3/lib/python3.12/site-packages (from langchain) (0.3.31)\n",
      "Requirement already satisfied: pydantic<3.0.0,>=2.7.4 in /opt/homebrew/anaconda3/lib/python3.12/site-packages (from langchain) (2.11.3)\n",
      "Requirement already satisfied: SQLAlchemy<3,>=1.4 in /opt/homebrew/anaconda3/lib/python3.12/site-packages (from langchain) (2.0.40)\n",
      "Requirement already satisfied: requests<3,>=2 in /opt/homebrew/anaconda3/lib/python3.12/site-packages (from langchain) (2.32.3)\n",
      "Requirement already satisfied: PyYAML>=5.3 in /opt/homebrew/anaconda3/lib/python3.12/site-packages (from langchain) (6.0.1)\n",
      "Collecting filetype<2.0.0,>=1.2.0 (from langchain-google-genai)\n",
      "  Using cached filetype-1.2.0-py2.py3-none-any.whl.metadata (6.5 kB)\n",
      "Collecting google-ai-generativelanguage<0.7.0,>=0.6.16 (from langchain-google-genai)\n",
      "  Using cached google_ai_generativelanguage-0.6.17-py3-none-any.whl.metadata (9.8 kB)\n",
      "Collecting google-api-core!=2.0.*,!=2.1.*,!=2.10.*,!=2.2.*,!=2.3.*,!=2.4.*,!=2.5.*,!=2.6.*,!=2.7.*,!=2.8.*,!=2.9.*,<3.0.0,>=1.34.1 (from google-api-core[grpc]!=2.0.*,!=2.1.*,!=2.10.*,!=2.2.*,!=2.3.*,!=2.4.*,!=2.5.*,!=2.6.*,!=2.7.*,!=2.8.*,!=2.9.*,<3.0.0,>=1.34.1->google-ai-generativelanguage<0.7.0,>=0.6.16->langchain-google-genai)\n",
      "  Using cached google_api_core-2.24.2-py3-none-any.whl.metadata (3.0 kB)\n",
      "Requirement already satisfied: google-auth!=2.24.0,!=2.25.0,<3.0.0,>=2.14.1 in /opt/homebrew/anaconda3/lib/python3.12/site-packages (from google-ai-generativelanguage<0.7.0,>=0.6.16->langchain-google-genai) (2.38.0)\n",
      "Collecting proto-plus<2.0.0,>=1.22.3 (from google-ai-generativelanguage<0.7.0,>=0.6.16->langchain-google-genai)\n",
      "  Using cached proto_plus-1.26.1-py3-none-any.whl.metadata (2.2 kB)\n",
      "Requirement already satisfied: protobuf!=4.21.0,!=4.21.1,!=4.21.2,!=4.21.3,!=4.21.4,!=4.21.5,<7.0.0,>=3.20.2 in /opt/homebrew/anaconda3/lib/python3.12/site-packages (from google-ai-generativelanguage<0.7.0,>=0.6.16->langchain-google-genai) (5.29.4)\n",
      "Requirement already satisfied: tenacity!=8.4.0,<10.0.0,>=8.1.0 in /opt/homebrew/anaconda3/lib/python3.12/site-packages (from langchain-core<1.0.0,>=0.3.51->langchain) (9.1.2)\n",
      "Requirement already satisfied: jsonpatch<2.0,>=1.33 in /opt/homebrew/anaconda3/lib/python3.12/site-packages (from langchain-core<1.0.0,>=0.3.51->langchain) (1.33)\n",
      "Requirement already satisfied: packaging<25,>=23.2 in /opt/homebrew/anaconda3/lib/python3.12/site-packages (from langchain-core<1.0.0,>=0.3.51->langchain) (23.2)\n",
      "Requirement already satisfied: typing-extensions>=4.7 in /opt/homebrew/anaconda3/lib/python3.12/site-packages (from langchain-core<1.0.0,>=0.3.51->langchain) (4.12.2)\n",
      "Requirement already satisfied: httpx<1,>=0.23.0 in /opt/homebrew/anaconda3/lib/python3.12/site-packages (from langsmith<0.4,>=0.1.17->langchain) (0.27.2)\n",
      "Requirement already satisfied: orjson<4.0.0,>=3.9.14 in /opt/homebrew/anaconda3/lib/python3.12/site-packages (from langsmith<0.4,>=0.1.17->langchain) (3.10.16)\n",
      "Requirement already satisfied: requests-toolbelt<2.0.0,>=1.0.0 in /opt/homebrew/anaconda3/lib/python3.12/site-packages (from langsmith<0.4,>=0.1.17->langchain) (1.0.0)\n",
      "Requirement already satisfied: zstandard<0.24.0,>=0.23.0 in /opt/homebrew/anaconda3/lib/python3.12/site-packages (from langsmith<0.4,>=0.1.17->langchain) (0.23.0)\n",
      "Requirement already satisfied: annotated-types>=0.6.0 in /opt/homebrew/anaconda3/lib/python3.12/site-packages (from pydantic<3.0.0,>=2.7.4->langchain) (0.6.0)\n",
      "Requirement already satisfied: pydantic-core==2.33.1 in /opt/homebrew/anaconda3/lib/python3.12/site-packages (from pydantic<3.0.0,>=2.7.4->langchain) (2.33.1)\n",
      "Requirement already satisfied: typing-inspection>=0.4.0 in /opt/homebrew/anaconda3/lib/python3.12/site-packages (from pydantic<3.0.0,>=2.7.4->langchain) (0.4.0)\n",
      "Requirement already satisfied: charset-normalizer<4,>=2 in /opt/homebrew/anaconda3/lib/python3.12/site-packages (from requests<3,>=2->langchain) (2.0.4)\n",
      "Requirement already satisfied: idna<4,>=2.5 in /opt/homebrew/anaconda3/lib/python3.12/site-packages (from requests<3,>=2->langchain) (3.7)\n",
      "Requirement already satisfied: urllib3<3,>=1.21.1 in /opt/homebrew/anaconda3/lib/python3.12/site-packages (from requests<3,>=2->langchain) (2.4.0)\n",
      "Requirement already satisfied: certifi>=2017.4.17 in /opt/homebrew/anaconda3/lib/python3.12/site-packages (from requests<3,>=2->langchain) (2025.1.31)\n",
      "Requirement already satisfied: googleapis-common-protos<2.0.0,>=1.56.2 in /opt/homebrew/anaconda3/lib/python3.12/site-packages (from google-api-core!=2.0.*,!=2.1.*,!=2.10.*,!=2.2.*,!=2.3.*,!=2.4.*,!=2.5.*,!=2.6.*,!=2.7.*,!=2.8.*,!=2.9.*,<3.0.0,>=1.34.1->google-api-core[grpc]!=2.0.*,!=2.1.*,!=2.10.*,!=2.2.*,!=2.3.*,!=2.4.*,!=2.5.*,!=2.6.*,!=2.7.*,!=2.8.*,!=2.9.*,<3.0.0,>=1.34.1->google-ai-generativelanguage<0.7.0,>=0.6.16->langchain-google-genai) (1.70.0)\n",
      "Requirement already satisfied: grpcio<2.0dev,>=1.33.2 in /opt/homebrew/anaconda3/lib/python3.12/site-packages (from google-api-core[grpc]!=2.0.*,!=2.1.*,!=2.10.*,!=2.2.*,!=2.3.*,!=2.4.*,!=2.5.*,!=2.6.*,!=2.7.*,!=2.8.*,!=2.9.*,<3.0.0,>=1.34.1->google-ai-generativelanguage<0.7.0,>=0.6.16->langchain-google-genai) (1.71.0)\n",
      "Collecting grpcio-status<2.0.dev0,>=1.33.2 (from google-api-core[grpc]!=2.0.*,!=2.1.*,!=2.10.*,!=2.2.*,!=2.3.*,!=2.4.*,!=2.5.*,!=2.6.*,!=2.7.*,!=2.8.*,!=2.9.*,<3.0.0,>=1.34.1->google-ai-generativelanguage<0.7.0,>=0.6.16->langchain-google-genai)\n",
      "  Downloading grpcio_status-1.71.0-py3-none-any.whl.metadata (1.1 kB)\n",
      "Requirement already satisfied: cachetools<6.0,>=2.0.0 in /opt/homebrew/anaconda3/lib/python3.12/site-packages (from google-auth!=2.24.0,!=2.25.0,<3.0.0,>=2.14.1->google-ai-generativelanguage<0.7.0,>=0.6.16->langchain-google-genai) (5.3.3)\n",
      "Requirement already satisfied: pyasn1-modules>=0.2.1 in /opt/homebrew/anaconda3/lib/python3.12/site-packages (from google-auth!=2.24.0,!=2.25.0,<3.0.0,>=2.14.1->google-ai-generativelanguage<0.7.0,>=0.6.16->langchain-google-genai) (0.2.8)\n",
      "Requirement already satisfied: rsa<5,>=3.1.4 in /opt/homebrew/anaconda3/lib/python3.12/site-packages (from google-auth!=2.24.0,!=2.25.0,<3.0.0,>=2.14.1->google-ai-generativelanguage<0.7.0,>=0.6.16->langchain-google-genai) (4.9)\n",
      "Requirement already satisfied: anyio in /opt/homebrew/anaconda3/lib/python3.12/site-packages (from httpx<1,>=0.23.0->langsmith<0.4,>=0.1.17->langchain) (4.2.0)\n",
      "Requirement already satisfied: httpcore==1.* in /opt/homebrew/anaconda3/lib/python3.12/site-packages (from httpx<1,>=0.23.0->langsmith<0.4,>=0.1.17->langchain) (1.0.8)\n",
      "Requirement already satisfied: sniffio in /opt/homebrew/anaconda3/lib/python3.12/site-packages (from httpx<1,>=0.23.0->langsmith<0.4,>=0.1.17->langchain) (1.3.0)\n",
      "Requirement already satisfied: h11<0.15,>=0.13 in /opt/homebrew/anaconda3/lib/python3.12/site-packages (from httpcore==1.*->httpx<1,>=0.23.0->langsmith<0.4,>=0.1.17->langchain) (0.14.0)\n",
      "Requirement already satisfied: jsonpointer>=1.9 in /opt/homebrew/anaconda3/lib/python3.12/site-packages (from jsonpatch<2.0,>=1.33->langchain-core<1.0.0,>=0.3.51->langchain) (2.1)\n",
      "Requirement already satisfied: pyasn1<0.5.0,>=0.4.6 in /opt/homebrew/anaconda3/lib/python3.12/site-packages (from pyasn1-modules>=0.2.1->google-auth!=2.24.0,!=2.25.0,<3.0.0,>=2.14.1->google-ai-generativelanguage<0.7.0,>=0.6.16->langchain-google-genai) (0.4.8)\n",
      "Using cached langchain_google_genai-2.1.2-py3-none-any.whl (42 kB)\n",
      "Using cached filetype-1.2.0-py2.py3-none-any.whl (19 kB)\n",
      "Using cached google_ai_generativelanguage-0.6.17-py3-none-any.whl (1.4 MB)\n",
      "Using cached google_api_core-2.24.2-py3-none-any.whl (160 kB)\n",
      "Using cached proto_plus-1.26.1-py3-none-any.whl (50 kB)\n",
      "Downloading grpcio_status-1.71.0-py3-none-any.whl (14 kB)\n",
      "Installing collected packages: filetype, proto-plus, grpcio-status, google-api-core, google-ai-generativelanguage, langchain-google-genai\n",
      "Successfully installed filetype-1.2.0 google-ai-generativelanguage-0.6.17 google-api-core-2.24.2 grpcio-status-1.71.0 langchain-google-genai-2.1.2 proto-plus-1.26.1\n",
      "Note: you may need to restart the kernel to use updated packages.\n"
     ]
    }
   ],
   "source": [
    "pip install langchain langchain-google-genai python-dotenv\n"
   ]
  },
  {
   "cell_type": "markdown",
   "metadata": {},
   "source": [
    "### Google Gemini API (Pro)"
   ]
  },
  {
   "cell_type": "code",
   "execution_count": null,
   "metadata": {},
   "outputs": [],
   "source": [
    "from dotenv import load_dotenv\n",
    "import os\n",
    "from langchain_google_genai import ChatGoogleGenerativeAI\n",
    "\n",
    "# Load environment variables from .env\n",
    "load_dotenv()\n",
    "\n",
    "# Get your API key\n",
    "KEY = os.getenv(\"GOOGLE_API_KEY\")\n",
    "\n",
    "# Initialize the Gemini 1.5 Pro LLM\n",
    "llm = ChatGoogleGenerativeAI(\n",
    "    model=\"gemini-1.5-pro\",  # \n",
    "    verbose=True,\n",
    "    temperature=0.5,\n",
    "    google_api_key=KEY\n",
    ")\n"
   ]
  },
  {
   "cell_type": "code",
   "execution_count": 173,
   "metadata": {},
   "outputs": [
    {
     "name": "stdout",
     "output_type": "stream",
     "text": [
      "content=\"AI isn't just about robots and algorithms; it's about augmenting human potential.  Imagine a future where AI helps us unlock scientific breakthroughs we can't even fathom today, from curing diseases to understanding the universe.  That's the cool part – it's a tool that can help us achieve the extraordinary.\" additional_kwargs={} response_metadata={'prompt_feedback': {'block_reason': 0, 'safety_ratings': []}, 'finish_reason': 'STOP', 'model_name': 'gemini-1.5-pro-002', 'safety_ratings': []} id='run-bd64f289-9a09-4b0d-a9ee-bc1259a24ad0-0' usage_metadata={'input_tokens': 7, 'output_tokens': 68, 'total_tokens': 75, 'input_token_details': {'cache_read': 0}}\n"
     ]
    }
   ],
   "source": [
    "response = llm.invoke(\"Say something cool about artificial intelligence.\")\n",
    "print(response)\n"
   ]
  },
  {
   "cell_type": "markdown",
   "metadata": {},
   "source": [
    "### tools to be used"
   ]
  },
  {
   "cell_type": "code",
   "execution_count": null,
   "metadata": {},
   "outputs": [],
   "source": [
    "\n",
    "class DatamuseTool:\n",
    "    name = \"Datamuse Tool\"\n",
    "    description = \"Semantic keyword suggestion from Datamuse API\"\n",
    "\n",
    "    def _run(self, topic: str):\n",
    "        import requests\n",
    "        response = requests.get(f\"https://api.datamuse.com/words?ml={topic}&max=5\")\n",
    "        return [res[\"word\"] for res in response.json()]"
   ]
  },
  {
   "cell_type": "code",
   "execution_count": 99,
   "metadata": {},
   "outputs": [
    {
     "name": "stdout",
     "output_type": "stream",
     "text": [
      "['ai', 'artificial general intelligence', 'machine learning', 'automated machine learning', 'intelligent system']\n"
     ]
    }
   ],
   "source": [
    "tool = DatamuseTool()\n",
    "keywords = tool._run(\"artificial intelligence\")\n",
    "print(keywords)\n"
   ]
  },
  {
   "cell_type": "code",
   "execution_count": 118,
   "metadata": {},
   "outputs": [],
   "source": [
    "class NewsTool:\n",
    "    name = \"NewsData Tool\"\n",
    "    description = \"Fetch trending news for a topic from NewsData.io\"\n",
    "\n",
    "    def _run(self, topic: str):\n",
    "        API_KEY = os.getenv(\"NEWSDATA_API_KEY\")\n",
    "        if not API_KEY:\n",
    "            return \"API key not found. Please set the NEWSDATA_API_KEY environment variable.\"\n",
    "\n",
    "        url = \"https://newsdata.io/api/1/latest\"\n",
    "        params = {\n",
    "            \"apikey\": API_KEY,\n",
    "            \"q\": topic,\n",
    "            \"language\": \"en\"\n",
    "        }\n",
    "\n",
    "        try:\n",
    "            response = requests.get(url, params=params, timeout=10)\n",
    "            response.raise_for_status()\n",
    "            data = response.json()\n",
    "\n",
    "            if data.get(\"status\") != \"success\":\n",
    "                return f\"API error: {data.get('message', 'Unknown error')}\"\n",
    "\n",
    "            articles = data.get(\"results\", [])\n",
    "            if not articles:\n",
    "                return \"No recent news found.\"\n",
    "\n",
    "            return \"\\n\".join([f\"{a['title']} - {a['link']}\" for a in articles[:3]])\n",
    "\n",
    "        except requests.exceptions.RequestException as e:\n",
    "            return f\"Request failed: {e}\"\n"
   ]
  },
  {
   "cell_type": "code",
   "execution_count": 105,
   "metadata": {},
   "outputs": [
    {
     "name": "stdout",
     "output_type": "stream",
     "text": [
      "3 Incredible Growth Stocks That Are Now Too Cheap to Ignore - https://www.fool.com/investing/2025/04/15/3-incredible-growth-stocks-that-are-now-too-cheap/\n",
      "'Marrying Technology With Love For Cricket': Joy Bhattacharjya On Latest Fantasy Offering - https://www.outlookindia.com/sports/cricket/joy-bhattacharjya-fifs-sports-data-gameathon-explained-ai-technology-fantasy-gaming\n",
      "Global tariff conflicts prompt calls for Korea-U.S. sector collaboration - https://koreajoongangdaily.joins.com/news/2025-04-15/business/industry/Global-tariff-conflicts-prompt-calls-for-KoreaUS-sector-collaboration/2285674\n"
     ]
    }
   ],
   "source": [
    "tool = NewsTool()\n",
    "news = tool._run(\"artificial intelligence\")\n",
    "print(news)\n"
   ]
  },
  {
   "cell_type": "code",
   "execution_count": null,
   "metadata": {},
   "outputs": [],
   "source": [
    "import requests\n",
    "\n",
    "class QuotableTool:\n",
    "    name = \"Quotable Tool\"\n",
    "    description = \"Fetch quotes from Quotable.io by keyword\"\n",
    "\n",
    "    def _run(self, topic: str):\n",
    "        try:\n",
    "            url = f\"https://api.quotable.io/quotes?query={topic}&limit=3\"\n",
    "            response = requests.get(url, timeout=10)\n",
    "\n",
    "            if response.status_code == 200:\n",
    "                data = response.json()\n",
    "                quotes = data.get(\"results\", [])\n",
    "                if quotes:\n",
    "                    return \"\\n\".join([f'\"{q.get(\"content\")}\" — {q.get(\"author\")}' for q in quotes])\n",
    "                else:\n",
    "                    return f\"No quotes found for topic: '{topic}'\"\n",
    "            else:\n",
    "                return f\"API error (status code {response.status_code})\"\n",
    "\n",
    "        except requests.exceptions.RequestException as e:\n",
    "            return f\"Network error while accessing Quotable.io:\\n{e}\"\n",
    "\n",
    "\n",
    "\n",
    "\n",
    "\n",
    "\n"
   ]
  },
  {
   "cell_type": "code",
   "execution_count": 164,
   "metadata": {},
   "outputs": [
    {
     "name": "stdout",
     "output_type": "stream",
     "text": [
      "⚠️ Network error while accessing Quotable.io:\n",
      "HTTPSConnectionPool(host='api.quotable.io', port=443): Max retries exceeded with url: /quotes?query=technology&limit=3 (Caused by NameResolutionError(\"<urllib3.connection.HTTPSConnection object at 0x300287230>: Failed to resolve 'api.quotable.io' ([Errno 8] nodename nor servname provided, or not known)\"))\n"
     ]
    }
   ],
   "source": [
    "tool = QuotableTool()\n",
    "print(tool._run(\"technology\"))\n",
    "\n",
    "\n"
   ]
  },
  {
   "cell_type": "code",
   "execution_count": 165,
   "metadata": {},
   "outputs": [
    {
     "name": "stdout",
     "output_type": "stream",
     "text": [
      "⚠️ Network error while accessing Quotable.io:\n",
      "HTTPSConnectionPool(host='api.quotable.io', port=443): Max retries exceeded with url: /quotes?query=success&limit=3 (Caused by NameResolutionError(\"<urllib3.connection.HTTPSConnection object at 0x300286090>: Failed to resolve 'api.quotable.io' ([Errno 8] nodename nor servname provided, or not known)\"))\n"
     ]
    }
   ],
   "source": [
    "print(tool._run(\"success\"))"
   ]
  },
  {
   "cell_type": "code",
   "execution_count": null,
   "metadata": {},
   "outputs": [],
   "source": [
    "import os\n",
    "import requests\n",
    "from dotenv import load_dotenv\n",
    "\n",
    "class MultiSourceQuoteTool:\n",
    "    name = \"MultiSourceQuoteTool\"\n",
    "    description = \"Fetch quotes from both FavQs and ZenQuotes APIs\"\n",
    "\n",
    "    def __init__(self):\n",
    "        load_dotenv()\n",
    "        self.favqs_key = os.getenv(\"FAVQS_API_KEY\")\n",
    "        if not self.favqs_key:\n",
    "            raise ValueError(\"Missing FAVQS_API_KEY in .env\")\n",
    "\n",
    "    def fetch_favqs_quotes(self, topic: str):\n",
    "        headers = {\"Authorization\": f\"Token token={self.favqs_key}\"}\n",
    "        params = {\"filter\": topic, \"type\": \"tag\"}\n",
    "\n",
    "        try:\n",
    "            response = requests.get(\"https://favqs.com/api/quotes\", headers=headers, params=params, timeout=10)\n",
    "            if response.status_code != 200:\n",
    "                return []\n",
    "\n",
    "            quotes = response.json().get(\"quotes\", [])\n",
    "            result = []\n",
    "\n",
    "            for q in quotes:\n",
    "                body = q.get(\"body\", \"\").strip()\n",
    "                author = q.get(\"author\", \"Unknown\").strip() if q.get(\"author\") else \"Unknown\"\n",
    "                if body:\n",
    "                    result.append(f'\"{body}\" — {author}')\n",
    "\n",
    "            return result[:3]\n",
    "\n",
    "        except requests.exceptions.RequestException:\n",
    "            return []\n",
    "\n",
    "    def fetch_zenquotes(self, topic: str):\n",
    "        try:\n",
    "            response = requests.get(\"https://zenquotes.io/api/quotes\", timeout=10)\n",
    "            if response.status_code != 200:\n",
    "                return []\n",
    "\n",
    "            quotes = response.json()\n",
    "            matches = []\n",
    "            for q in quotes:\n",
    "                quote_text = q.get(\"q\", \"\")\n",
    "                if topic.lower() in quote_text.lower():\n",
    "                    matches.append(f'\"{quote_text.strip()}\" — {q.get(\"a\", \"Unknown\").strip()}')\n",
    "                if len(matches) >= 3:\n",
    "                    break\n",
    "            return matches\n",
    "\n",
    "        except requests.exceptions.RequestException:\n",
    "            return []\n",
    "\n",
    "    def _run(self, topic: str):\n",
    "        favqs = self.fetch_favqs_quotes(topic)\n",
    "        zen = self.fetch_zenquotes(topic)\n",
    "\n",
    "        combined = list(dict.fromkeys(favqs + zen))  # Deduplicate\n",
    "\n",
    "        if not combined:\n",
    "            return f\" No quotes found for topic: '{topic}'\"\n",
    "\n",
    "        return \"\\n\\n\".join(combined[:5])\n",
    "\n"
   ]
  },
  {
   "cell_type": "code",
   "execution_count": 171,
   "metadata": {},
   "outputs": [
    {
     "name": "stdout",
     "output_type": "stream",
     "text": [
      "\"As technology advances, it reverses the characteristics of every situation again and again. The age of automation is going to be the age of 'do it yourself.'\" — Marshall McLuhan\n",
      "\n",
      "\"You'd think that in this age, especially in the 21st century - especially with all the technology and all the discoveries that we've made - that we would figure out how to tackle abuse.\" — Tori Amos\n",
      "\n",
      "\"I hate to mention age, but I come from an era when we weren't consumed by technology and television.\" — Jimmy Buffett\n"
     ]
    }
   ],
   "source": [
    "tool = MultiSourceQuoteTool()\n",
    "print(tool._run(\"technology\"))\n"
   ]
  },
  {
   "cell_type": "code",
   "execution_count": 172,
   "metadata": {},
   "outputs": [
    {
     "name": "stdout",
     "output_type": "stream",
     "text": [
      "\"Only work half a day. It doesn't matter which half you work -- the first 12 hours or the second 12 hours.\" — Kemmons Wilson\n",
      "\n",
      "\"I do not think there is any other quality so essential to success, of any kind, as perseverance. It overcomes almost everything.\" — John D. Rockefeller\n",
      "\n",
      "\"People really don’t like to hear success explained away as luck — especially successful people.\" — Michael Lewis\n",
      "\n",
      "\"Success is good at any age, but the sooner you find it, the longer you will enjoy it.\" — Napoleon Hill\n",
      "\n",
      "\"Success is a poor teacher.\" — Robert Kiyosaki\n"
     ]
    }
   ],
   "source": [
    "tool = MultiSourceQuoteTool()\n",
    "print(tool._run(\"success\"))\n"
   ]
  },
  {
   "cell_type": "markdown",
   "metadata": {},
   "source": [
    "### Defining AGENTS"
   ]
  },
  {
   "cell_type": "code",
   "execution_count": 200,
   "metadata": {},
   "outputs": [],
   "source": [
    "from langgraph.graph import StateGraph, END\n",
    "from typing import TypedDict, Annotated, Optional\n",
    "from langchain_google_genai import ChatGoogleGenerativeAI\n",
    "import json\n",
    "import datetime\n",
    "\n",
    "    \n"
   ]
  },
  {
   "cell_type": "code",
   "execution_count": 201,
   "metadata": {},
   "outputs": [],
   "source": [
    "# Define State Schema\n",
    "class BlogState(TypedDict):\n",
    "    topic: str\n",
    "    tone: Optional[str]\n",
    "    subtopics: Optional[list]\n",
    "    research_data: Optional[dict]\n",
    "    draft: Optional[str]\n",
    "    seo_data: Optional[dict]\n",
    "    exports: Optional[dict]\n",
    "    error: Optional[str]"
   ]
  },
  {
   "cell_type": "code",
   "execution_count": 202,
   "metadata": {},
   "outputs": [],
   "source": [
    "# Initialize Tools\n",
    "quote_tool = MultiSourceQuoteTool()\n",
    "news_tool = NewsTool()\n",
    "keyword_tool = DatamuseTool()"
   ]
  },
  {
   "cell_type": "markdown",
   "metadata": {},
   "source": [
    "## Defining the nodes "
   ]
  },
  {
   "cell_type": "markdown",
   "metadata": {},
   "source": [
    "### planner node"
   ]
  },
  {
   "cell_type": "code",
   "execution_count": 273,
   "metadata": {},
   "outputs": [],
   "source": [
    "async def planner_node(state: Dict[str, Any]):\n",
    "    if not state.get('topic'):\n",
    "        return {\"error\": \"No topic provided\"}\n",
    "\n",
    "    prompt = f\"\"\"\n",
    "    Break down the following blog topic into exactly 3 subtopics and suggest a recommended depth level.\n",
    "\n",
    "    Topic: {state['topic']}\n",
    "    Tone: {state.get('tone', 'neutral')}\n",
    "\n",
    "    Return in this exact format:\n",
    "    Subtopic1|Subtopic2|Subtopic3\n",
    "    Recommended depth: basic\n",
    "\n",
    "    Do not explain anything. Only return the 2-line format.\n",
    "    \"\"\"\n",
    "\n",
    "    try:\n",
    "        response = await llm.ainvoke(prompt)\n",
    "        raw_output = response.content.strip()\n",
    "        print(\"🔍 LLM Response from planner_node:\\n\", raw_output)\n",
    "\n",
    "        parts = raw_output.split(\"\\n\")\n",
    "\n",
    "        if len(parts) < 2 or \"|\" not in parts[0] or \"Recommended depth:\" not in parts[1]:\n",
    "            return {\"error\": f\"Unexpected format from LLM:\\n{raw_output}\"}\n",
    "\n",
    "        subtopics = parts[0].split(\"|\")\n",
    "        depth = parts[1].split(\":\")[-1].strip()\n",
    "\n",
    "        return {\n",
    "            \"subtopics\": subtopics,\n",
    "            \"depth_level\": depth\n",
    "        }\n",
    "\n",
    "    except Exception as e:\n",
    "        return {\"error\": f\"Planning failed: {str(e)}\"}\n",
    " \n"
   ]
  },
  {
   "cell_type": "code",
   "execution_count": 274,
   "metadata": {},
   "outputs": [],
   "source": [
    "# Fake blog state\n",
    "test_state = {\n",
    "    \"topic\": \"How Python is used in AI\",\n",
    "    \"tone\": \"educational\"\n",
    "}\n"
   ]
  },
  {
   "cell_type": "code",
   "execution_count": 275,
   "metadata": {},
   "outputs": [
    {
     "name": "stdout",
     "output_type": "stream",
     "text": [
      "🔍 LLM Response from planner_node:\n",
      " Libraries and Frameworks for AI in Python|Machine Learning with Python|Deep Learning with Python\n",
      "Recommended depth: basic\n",
      "Planner Node Result:\n",
      "{'subtopics': ['Libraries and Frameworks for AI in Python', 'Machine Learning with Python', 'Deep Learning with Python'], 'depth_level': 'basic'}\n"
     ]
    }
   ],
   "source": [
    "import asyncio\n",
    "\n",
    "result = await planner_node(test_state)\n",
    "print(\"Planner Node Result:\")\n",
    "print(result)\n",
    "\n"
   ]
  },
  {
   "cell_type": "markdown",
   "metadata": {},
   "source": [
    "### research node"
   ]
  },
  {
   "cell_type": "code",
   "execution_count": 277,
   "metadata": {},
   "outputs": [],
   "source": [
    "import json\n",
    "\n",
    "async def research_node(state: BlogState):\n",
    "    # Run all tool outputs first\n",
    "    quote_result = quote_tool._run(state['topic'])\n",
    "    news_result = news_tool._run(state['topic'])\n",
    "    keyword_result = keyword_tool._run(state['topic'])\n",
    "\n",
    "    # If no quote found, generate one using LLM\n",
    "    if \"no quote\" in quote_result.lower():\n",
    "        quote_prompt = f'Write a one-line original inspirational quote about: \"{state[\"topic\"]}\"'\n",
    "        try:\n",
    "            quote_response = await llm.ainvoke(quote_prompt)\n",
    "            quote_result = f'\"{quote_response.content.strip()}\" — AI'\n",
    "        except Exception as e:\n",
    "            quote_result = f'\"[Quote generation failed: {e}]\"'\n",
    "\n",
    "    research = {\n",
    "        \"quotes\": quote_result,\n",
    "        \"news\": news_result,\n",
    "        \"keywords\": keyword_result\n",
    "    }\n",
    "\n",
    "    return {\"research_data\": research}\n"
   ]
  },
  {
   "cell_type": "code",
   "execution_count": 219,
   "metadata": {},
   "outputs": [],
   "source": [
    "## testing the node\n",
    "\n",
    "test_state = {\n",
    "    \"topic\": \"How Python is used in AI\",\n",
    "    \"tone\": \"educational\",\n",
    "    \"subtopics\": [\n",
    "        \"Popular AI Libraries\",\n",
    "        \"Python for Data Preprocessing\",\n",
    "        \"Real-world Projects in AI\"\n",
    "    ]\n",
    "}\n"
   ]
  },
  {
   "cell_type": "code",
   "execution_count": 220,
   "metadata": {},
   "outputs": [
    {
     "name": "stdout",
     "output_type": "stream",
     "text": [
      " Research Output:\n",
      "{'research_data': {'quotes': '\"Python empowers AI, weaving complex algorithms into intelligent tapestries of code.\" — AI', 'news': 'GPT-4.1 Free On Windsurf AI Coding Assistant for 7 Days - https://www.geeky-gadgets.com/gpt-4-1-free-on-windsurf/\\nThe Rise of Cloud Experts: What You Should Know in 2025 - https://www.dailyexcelsior.com/the-rise-of-cloud-experts-what-you-should-know-in-2025/\\nTop 10 Generative AI Courses in India in 2025 - https://www.analyticsinsight.net/artificial-intelligence/top-10-generative-ai-courses-in-india-in-2025', 'keywords': ['metarule', 'did', 'was', 'anaconda', 'artificial insemination']}}\n"
     ]
    }
   ],
   "source": [
    "research_result = await research_node(test_state)\n",
    "print(\" Research Output:\")\n",
    "print(research_result)\n"
   ]
  },
  {
   "cell_type": "markdown",
   "metadata": {},
   "source": [
    "### writing node "
   ]
  },
  {
   "cell_type": "code",
   "execution_count": 278,
   "metadata": {},
   "outputs": [],
   "source": [
    "async def writer_node(state: BlogState):\n",
    "    prompt = f\"\"\"\n",
    "    Write blog post with:\n",
    "    Topic: {state['topic']}\n",
    "    Tone: {state['tone']}\n",
    "    Subtopics: {state['subtopics']}\n",
    "    Research: {json.dumps(state['research_data'])}\n",
    "    \n",
    "    Include Markdown formatting with H2 headings.\n",
    "    \"\"\"\n",
    "    \n",
    "    try:\n",
    "        response = await llm.ainvoke(prompt)\n",
    "        return {\"draft\": response.content}\n",
    "    except Exception as e:\n",
    "        return {\"error\": f\"Writing failed: {str(e)}\"}"
   ]
  },
  {
   "cell_type": "code",
   "execution_count": 221,
   "metadata": {},
   "outputs": [],
   "source": [
    "test_state = {\n",
    "    \"topic\": \"How Python is used in AI\",\n",
    "    \"tone\": \"educational\",\n",
    "    \"subtopics\": [\n",
    "        \"Popular AI Libraries\",\n",
    "        \"Data Preprocessing with Python\",\n",
    "        \"Real-world AI Projects\"\n",
    "    ],\n",
    "    \"research_data\": {\n",
    "        \"quotes\": '\"Python is the soul of AI development.\" — AI',\n",
    "        \"news\": \"OpenAI releases a new version of GPT model with better fine-tuning capabilities.\",\n",
    "        \"keywords\": [\"Python\", \"AI\", \"TensorFlow\", \"Machine Learning\"]\n",
    "    }\n",
    "}\n"
   ]
  },
  {
   "cell_type": "code",
   "execution_count": 225,
   "metadata": {},
   "outputs": [
    {
     "name": "stdout",
     "output_type": "stream",
     "text": [
      "log Draft Output:\n",
      "## How Python Fuels the AI Revolution\n",
      "\n",
      "Python has become the dominant language in the world of Artificial Intelligence (AI), and for good reason. Its versatility, extensive libraries, and supportive community make it the perfect tool for developing cutting-edge AI applications.  As someone aptly put it, \"\\\"Python is the soul of AI development.\\\" — AI\".  This post will explore how Python contributes to the exciting field of AI, covering key areas like essential libraries, data preprocessing techniques, and real-world applications.\n",
      "\n",
      "## Popular AI Libraries\n",
      "\n",
      "Python's strength in AI stems largely from its rich ecosystem of dedicated libraries. These libraries provide pre-built functions and tools that simplify complex tasks, allowing developers to focus on the core logic of their AI projects.  Here are a few of the most popular:\n",
      "\n",
      "* **TensorFlow:** Developed by Google, TensorFlow is a powerful library for numerical computation and large-scale machine learning. It's particularly well-suited for deep learning tasks, such as image recognition and natural language processing.\n",
      "\n",
      "* **PyTorch:**  Developed by Facebook's AI Research lab, PyTorch is another popular deep learning framework known for its dynamic computation graphs and user-friendly interface.  It's a favorite among researchers and practitioners alike.\n",
      "\n",
      "* **Scikit-learn:** This library provides a wide range of algorithms for classical machine learning tasks, including classification, regression, clustering, and dimensionality reduction.  It's built on top of NumPy, SciPy, and Matplotlib, making it a versatile tool for data analysis and modeling.\n",
      "\n",
      "* **Keras:**  Keras is a high-level API that can run on top of TensorFlow, Theano, or CNTK. It simplifies the process of building and training neural networks with its intuitive and modular design.\n",
      "\n",
      "These libraries, along with many others, provide the building blocks for almost any AI project you can imagine.  And with news like \"OpenAI releases a new version of GPT model with better fine-tuning capabilities.\", the landscape of AI with Python is constantly evolving and improving.\n",
      "\n",
      "## Data Preprocessing with Python\n",
      "\n",
      "Before any AI algorithm can be applied, the data needs to be cleaned, transformed, and prepared.  Python excels in this area, offering powerful libraries like Pandas and NumPy for data manipulation and analysis.\n",
      "\n",
      "* **Pandas:** This library provides data structures like DataFrames, which allow for efficient data cleaning, filtering, and transformation.  You can easily handle missing values, convert data types, and perform aggregations.\n",
      "\n",
      "* **NumPy:** NumPy provides powerful array operations and mathematical functions, making it essential for numerical computations in AI.  It's the foundation for many other scientific computing libraries in Python.\n",
      "\n",
      "Python's data preprocessing capabilities are crucial for ensuring the quality and reliability of AI models.  By leveraging these tools, developers can create robust and accurate AI systems.\n",
      "\n",
      "## Real-world AI Projects\n",
      "\n",
      "Python's impact on AI extends far beyond theoretical research.  It's being used in a wide range of real-world applications, including:\n",
      "\n",
      "* **Image Recognition:**  Identifying objects, faces, and patterns in images.\n",
      "* **Natural Language Processing:**  Understanding and generating human language, powering chatbots, language translation, and sentiment analysis.\n",
      "* **Self-Driving Cars:**  Processing sensor data and making driving decisions in autonomous vehicles.\n",
      "* **Medical Diagnosis:**  Analyzing medical images and patient data to assist in diagnosis and treatment planning.\n",
      "* **Fraud Detection:**  Identifying fraudulent transactions and patterns in financial data.\n",
      "\n",
      "These are just a few examples of how Python is transforming industries and shaping the future with AI.  Its versatility and powerful libraries make it the language of choice for developers pushing the boundaries of what's possible.  With keywords like \"Python,\" \"AI,\" \"TensorFlow,\" and \"Machine Learning\" becoming increasingly prevalent, it's clear that Python's role in AI is only going to grow stronger.\n"
     ]
    }
   ],
   "source": [
    "# Run the writer node\n",
    "result = await writer_node(test_state)\n",
    "\n",
    "# Extract content\n",
    "blog_draft = result.get(\"draft\") or result.get(\"error\")\n",
    "\n",
    "# Print to console\n",
    "print(\"log Draft Output:\")\n",
    "print(blog_draft)\n",
    "\n",
    "\n"
   ]
  },
  {
   "cell_type": "code",
   "execution_count": 226,
   "metadata": {},
   "outputs": [
    {
     "name": "stdout",
     "output_type": "stream",
     "text": [
      " Blog draft saved to blog_draft_test_output.txt\n"
     ]
    }
   ],
   "source": [
    "with open(\"blog_draft_test_output.txt\", \"w\", encoding=\"utf-8\") as f:\n",
    "    f.write(blog_draft)\n",
    "\n",
    "print(\" Blog draft saved to blog_draft_test_output.txt\")"
   ]
  },
  {
   "cell_type": "markdown",
   "metadata": {},
   "source": [
    "### seo node"
   ]
  },
  {
   "cell_type": "code",
   "execution_count": 279,
   "metadata": {},
   "outputs": [],
   "source": [
    "async def seo_node(state: BlogState):\n",
    "    prompt = f\"\"\"\n",
    "    Generate SEO metadata for the blog content below.\n",
    "\n",
    "    Content:\n",
    "    {state['draft']}\n",
    "\n",
    "    Keywords: {state['research_data']['keywords']}\n",
    "\n",
    "    ONLY return a valid JSON object in this format (no explanations, no markdown):\n",
    "\n",
    "    {{\n",
    "        \"title\": \"\",\n",
    "        \"meta_description\": \"\",\n",
    "        \"keywords\": [],\n",
    "        \"reading_time\": \"\",\n",
    "        \"slug\": \"\"\n",
    "    }}\n",
    "    \"\"\"\n",
    "\n",
    "    try:\n",
    "        response = await llm.ainvoke(prompt)\n",
    "\n",
    "        # Clean code block if wrapped\n",
    "        raw = response.content.strip()\n",
    "        if raw.startswith(\"```\"):\n",
    "            raw = raw.strip(\"```json\").strip(\"```\")\n",
    "\n",
    "        return {\"seo_data\": json.loads(raw)}\n",
    "    except Exception as e:\n",
    "        return {\"error\": f\"SEO failed: {str(e)}\"}\n"
   ]
  },
  {
   "cell_type": "code",
   "execution_count": 231,
   "metadata": {},
   "outputs": [],
   "source": [
    "with open(\"/Users/vijay/Documents/PROJECTS ML/blog agent.ai/blog_draft_test_output.txt\", \"r\", encoding=\"utf-8\") as f:\n",
    "    draft_text = f.read()\n"
   ]
  },
  {
   "cell_type": "code",
   "execution_count": 232,
   "metadata": {},
   "outputs": [],
   "source": [
    "test_state = {\n",
    "    \"draft\": draft_text,\n",
    "    \"research_data\": {\n",
    "        \"keywords\": [\"Python\", \"AI\", \"Machine Learning\", \"TensorFlow\", \"Automation\"]\n",
    "    }\n",
    "}\n"
   ]
  },
  {
   "cell_type": "code",
   "execution_count": 233,
   "metadata": {},
   "outputs": [
    {
     "name": "stdout",
     "output_type": "stream",
     "text": [
      " SEO Metadata:\n",
      "{'title': 'How Python Fuels the AI Revolution', 'meta_description': \"Discover how Python's versatility, libraries like TensorFlow and PyTorch, and data preprocessing tools are driving the advancement of Artificial Intelligence. Explore real-world AI applications and the future of AI with Python.\", 'keywords': ['Python', 'AI', 'Machine Learning', 'TensorFlow', 'PyTorch', 'Scikit-learn', 'Keras', 'Data Preprocessing', 'Pandas', 'NumPy', 'Image Recognition', 'Natural Language Processing', 'Self-Driving Cars', 'Medical Diagnosis', 'Fraud Detection', 'Automation'], 'reading_time': '3-5 minutes', 'slug': 'how-python-fuels-the-ai-revolution'}\n"
     ]
    }
   ],
   "source": [
    "seo_result = await seo_node(test_state)\n",
    "\n",
    "# Display result\n",
    "print(\" SEO Metadata:\")\n",
    "print(seo_result.get(\"seo_data\") or seo_result.get(\"error\"))\n"
   ]
  },
  {
   "cell_type": "code",
   "execution_count": 234,
   "metadata": {},
   "outputs": [
    {
     "name": "stdout",
     "output_type": "stream",
     "text": [
      "🔍 SEO Metadata:\n",
      "{'title': 'How Python Fuels the AI Revolution', 'meta_description': \"Discover how Python's versatility, libraries like TensorFlow and PyTorch, and data preprocessing tools are driving the advancement of Artificial Intelligence. Explore real-world AI applications and the future of Python in AI.\", 'keywords': ['Python', 'AI', 'Machine Learning', 'TensorFlow', 'PyTorch', 'Scikit-learn', 'Keras', 'Data Preprocessing', 'Pandas', 'NumPy', 'Image Recognition', 'Natural Language Processing', 'Self-Driving Cars', 'Medical Diagnosis', 'Fraud Detection', 'Automation'], 'reading_time': '3-5 minutes', 'slug': 'how-python-fuels-the-ai-revolution'}\n",
      "SEO metadata saved to /Users/vijay/Documents/PROJECTS ML/blog agent.ai/seo_metadata.json\n"
     ]
    }
   ],
   "source": [
    "import json\n",
    "\n",
    "# Run the SEO node\n",
    "seo_result = await seo_node(test_state)\n",
    "\n",
    "# Print result\n",
    "print(\"🔍 SEO Metadata:\")\n",
    "print(seo_result.get(\"seo_data\") or seo_result.get(\"error\"))\n",
    "\n",
    "# Save to JSON file if SEO was successful\n",
    "seo_data = seo_result.get(\"seo_data\")\n",
    "if seo_data:\n",
    "    output_path = \"/Users/vijay/Documents/PROJECTS ML/blog agent.ai/seo_metadata.json\"\n",
    "    with open(output_path, \"w\", encoding=\"utf-8\") as f:\n",
    "        json.dump(seo_data, f, indent=2)\n",
    "    print(f\"SEO metadata saved to {output_path}\")\n",
    "else:\n",
    "    print(\" SEO metadata not saved due to error.\")\n"
   ]
  },
  {
   "cell_type": "markdown",
   "metadata": {},
   "source": [
    "### export and summarize agent"
   ]
  },
  {
   "cell_type": "code",
   "execution_count": 286,
   "metadata": {},
   "outputs": [],
   "source": [
    "async def execution_agent(state: Dict[str, Any]) -> Dict[str, Any]:\n",
    "    try:\n",
    "        if not state.get('seo_data'):\n",
    "            return {\"error\": \"SEO data missing\"}\n",
    "        if not state.get('draft'):\n",
    "            return {\"error\": \"Blog content missing\"}\n",
    "\n",
    "        timestamp = datetime.datetime.now().strftime(\"%Y%m%d-%H%M%S\")\n",
    "        slug = state['seo_data'].get('slug', 'blog-post')\n",
    "        filename_base = f\"{slug}-{timestamp}\"\n",
    "\n",
    "        md_content = f\"# {state['seo_data']['title']}\\n\\n{state['draft']}\"\n",
    "        md_filename = f\"{filename_base}.md\"\n",
    "        with open(md_filename, 'w', encoding='utf-8') as f:\n",
    "            f.write(md_content)\n",
    "\n",
    "        metadata = {\n",
    "            \"seo\": state['seo_data'],\n",
    "            \"system\": {\n",
    "                \"generated_at\": timestamp,\n",
    "                \"word_count\": len(state['draft'].split()),\n",
    "                \"source_tools\": [\"NewsData.io\", \"Datamuse API\", \"Quotable.io\"]\n",
    "            }\n",
    "        }\n",
    "        json_filename = f\"{filename_base}-metadata.json\"\n",
    "        with open(json_filename, 'w', encoding='utf-8') as f:\n",
    "            json.dump(metadata, f, indent=2)\n",
    "\n",
    "        summary = f\"\"\"\n",
    "🚀 Blog Generation Complete\n",
    "{'-'*40}\n",
    "📝 Title: {state['seo_data']['title']}\n",
    "📊 Word Count: {len(state['draft'].split())}\n",
    "📂 Files Created:\n",
    "  - {os.path.abspath(md_filename)}\n",
    "  - {os.path.abspath(json_filename)}\n",
    "🔑 Keywords: {', '.join(state['seo_data']['keywords'][:5])}\n",
    "⏱️ Generation Time: {timestamp}\n",
    "\"\"\"\n",
    "\n",
    "        return {\n",
    "            \"exports\": {\n",
    "                \"markdown\": md_filename,\n",
    "                \"metadata\": json_filename\n",
    "            },\n",
    "            \"cli_summary\": summary,\n",
    "            \"validation\": {\n",
    "                \"markdown_exists\": os.path.exists(md_filename),\n",
    "                \"metadata_valid\": bool(state['seo_data'])\n",
    "            }\n",
    "        }\n",
    "\n",
    "    except Exception as e:\n",
    "        return {\"error\": f\"Export failed: {str(e)}\"}"
   ]
  },
  {
   "cell_type": "code",
   "execution_count": 236,
   "metadata": {},
   "outputs": [],
   "source": [
    "import json\n",
    "\n",
    "# Load blog draft\n",
    "with open(\"/Users/vijay/Documents/PROJECTS ML/blog agent.ai/blog_draft_test_output.txt\", \"r\", encoding=\"utf-8\") as f:\n",
    "    draft = f.read()\n",
    "\n",
    "# Load SEO metadata\n",
    "with open(\"/Users/vijay/Documents/PROJECTS ML/blog agent.ai/seo_metadata.json\", \"r\", encoding=\"utf-8\") as f:\n",
    "    seo_data = json.load(f)\n",
    "\n",
    "# Construct state\n",
    "test_state = {\n",
    "    \"draft\": draft,\n",
    "    \"seo_data\": seo_data\n",
    "}\n"
   ]
  },
  {
   "cell_type": "code",
   "execution_count": 237,
   "metadata": {},
   "outputs": [
    {
     "name": "stdout",
     "output_type": "stream",
     "text": [
      "\n",
      "        🚀 Blog Generation Complete\n",
      "        ----------------------------------------\n",
      "        📝 Title: How Python Fuels the AI Revolution\n",
      "        📊 Word Count: 587\n",
      "        📂 Files Created:\n",
      "          - /Users/vijay/Documents/PROJECTS ML/blog agent.ai/how-python-fuels-the-ai-revolution-20250416-034919.md\n",
      "          - /Users/vijay/Documents/PROJECTS ML/blog agent.ai/how-python-fuels-the-ai-revolution-20250416-034919-metadata.json\n",
      "        🔑 Keywords: Python, AI, Machine Learning, TensorFlow, PyTorch\n",
      "        ⏱️ Generation Time: 20250416-034919\n",
      "        \n"
     ]
    }
   ],
   "source": [
    "result = await execution_agent(test_state)\n",
    "\n",
    "# Print summary or error\n",
    "if \"error\" in result:\n",
    "    print(\" Error:\", result[\"error\"])\n",
    "else:\n",
    "    print(result[\"cli_summary\"])\n"
   ]
  },
  {
   "cell_type": "markdown",
   "metadata": {},
   "source": [
    "### build the graph"
   ]
  },
  {
   "cell_type": "code",
   "execution_count": 287,
   "metadata": {},
   "outputs": [
    {
     "data": {
      "text/plain": [
       "<langgraph.graph.state.StateGraph at 0x159cdba70>"
      ]
     },
     "execution_count": 287,
     "metadata": {},
     "output_type": "execute_result"
    }
   ],
   "source": [
    "# Build and Connect Graph\n",
    "workflow = StateGraph(BlogState)\n",
    "\n",
    "# Add Nodes\n",
    "workflow.add_node(\"planner\", planner_node)\n",
    "workflow.add_node(\"researcher\", research_node)\n",
    "workflow.add_node(\"writer\", writer_node)\n",
    "workflow.add_node(\"seo_optimizer\", seo_node)\n",
    "workflow.add_node(\"executor\", execution_agent)\n",
    "\n",
    "# Set Up Conditional Flow\n",
    "workflow.set_entry_point(\"planner\")"
   ]
  },
  {
   "cell_type": "code",
   "execution_count": 288,
   "metadata": {},
   "outputs": [
    {
     "data": {
      "text/plain": [
       "<langgraph.graph.state.StateGraph at 0x159cdba70>"
      ]
     },
     "execution_count": 288,
     "metadata": {},
     "output_type": "execute_result"
    }
   ],
   "source": [
    "# Planner -> Researcher\n",
    "workflow.add_conditional_edges(\n",
    "    \"planner\",\n",
    "    lambda state: \"error\" if state.get(\"error\") else \"researcher\",\n",
    "    {\"error\": END, \"researcher\": \"researcher\"}\n",
    ")\n",
    "\n",
    "# Researcher -> Writer\n",
    "workflow.add_conditional_edges(\n",
    "    \"researcher\",\n",
    "    lambda state: \"error\" if state.get(\"error\") else \"writer\",\n",
    "    {\"error\": END, \"writer\": \"writer\"}\n",
    ")\n",
    "\n",
    "# Writer -> SEO Optimizer\n",
    "workflow.add_conditional_edges(\n",
    "    \"writer\",\n",
    "    lambda state: \"error\" if state.get(\"error\") else \"seo_optimizer\",\n",
    "    {\"error\": END, \"seo_optimizer\": \"seo_optimizer\"}\n",
    ")\n",
    "\n",
    "# SEO Optimizer -> Executor\n",
    "workflow.add_conditional_edges(\n",
    "    \"seo_optimizer\",\n",
    "    lambda state: \"error\" if state.get(\"error\") else \"executor\",\n",
    "    {\"error\": END, \"executor\": \"executor\"}\n",
    ")\n"
   ]
  },
  {
   "cell_type": "code",
   "execution_count": 289,
   "metadata": {},
   "outputs": [],
   "source": [
    "# Final Step\n",
    "workflow.add_edge(\"executor\", END)\n",
    "\n",
    "# Compile Workflow\n",
    "blog_chain = workflow.compile()"
   ]
  },
  {
   "cell_type": "code",
   "execution_count": null,
   "metadata": {},
   "outputs": [
    {
     "name": "stdout",
     "output_type": "stream",
     "text": [
      "🔍 LLM Response from planner_node:\n",
      " Solar Power Advancements|Wind Energy Innovations|Energy Storage Technologies\n",
      "Recommended depth: advanced\n",
      "✅ Blog draft and metadata generated. Exporting...\n",
      "\n",
      "🚀 Blog Generation Complete\n",
      "----------------------------------------\n",
      "📝 Title: Renewable Energy Trends: Catching the Winds of Change\n",
      "📊 Word Count: 543\n",
      "📂 Files Created:\n",
      "  - /Users/vijay/Documents/PROJECTS ML/blog agent.ai/renewable-energy-trends-20250416-043159.md\n",
      "  - /Users/vijay/Documents/PROJECTS ML/blog agent.ai/renewable-energy-trends-20250416-043159-metadata.json\n",
      "🔑 Keywords: renewable energy, solar energy, wind energy, energy storage, solar power\n",
      "⏱️ Generation Time: 20250416-043159\n",
      "\n"
     ]
    }
   ],
   "source": [
    "# Prompt user\n",
    "topic = input(\"Enter blog topic: \").strip()\n",
    "tone = input(\"Enter content tone (professional/casual/technical): \").strip()\n",
    "\n",
    "# ✅ Initial state for LangGraph\n",
    "initial_state = {\n",
    "    \"topic\": topic,\n",
    "    \"tone\": tone\n",
    "}\n",
    "\n",
    "#  Reuse execution agent\n",
    "async def run_export_summary(state):\n",
    "    try:\n",
    "        result = await execution_agent(state)\n",
    "\n",
    "        if \"cli_summary\" in result:\n",
    "            print(result[\"cli_summary\"])\n",
    "        else:\n",
    "            print(\"❌ Failed to generate summary:\", result.get(\"error\"))\n",
    "\n",
    "    except Exception as e:\n",
    "        print(f\"❌ Automation failed: {e}\")\n",
    "\n",
    "# ✅ Run the full pipeline \n",
    "async def test_blog_graph():\n",
    "    result = await blog_chain.ainvoke(initial_state)\n",
    "\n",
    "    if \"error\" in result:\n",
    "        print(\"❌ Error during blog generation:\", result[\"error\"])\n",
    "    elif \"draft\" in result and \"seo_data\" in result:\n",
    "        print(\"✅ Blog draft and metadata generated. Exporting...\")\n",
    "        await run_export_summary(result)\n",
    "    else:\n",
    "        print(\"⚠️ Blog generated but missing required fields. Full result:\\n\")\n",
    "        print(result)\n",
    "\n",
    "# ✅ Run the test\n",
    "await test_blog_graph()\n",
    "\n",
    "\n"
   ]
  },
  {
   "cell_type": "code",
   "execution_count": null,
   "metadata": {},
   "outputs": [],
   "source": []
  }
 ],
 "metadata": {
  "kernelspec": {
   "display_name": "Python 3",
   "language": "python",
   "name": "python3"
  },
  "language_info": {
   "codemirror_mode": {
    "name": "ipython",
    "version": 3
   },
   "file_extension": ".py",
   "mimetype": "text/x-python",
   "name": "python",
   "nbconvert_exporter": "python",
   "pygments_lexer": "ipython3",
   "version": "3.12.4"
  }
 },
 "nbformat": 4,
 "nbformat_minor": 2
}
